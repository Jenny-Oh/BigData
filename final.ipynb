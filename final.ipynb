{
 "cells": [
  {
   "cell_type": "code",
   "execution_count": 1,
   "metadata": {
    "scrolled": true
   },
   "outputs": [
    {
     "data": {
      "text/plain": [
       "array([[  2,   4,   6,   8,  10],\n",
       "       [ 12,  14,  16,  18,  20],\n",
       "       [ 22,  24,  26,  28,  30],\n",
       "       [ 32,  34,  36,  38,  40],\n",
       "       [ 42,  44,  46,  48,  50],\n",
       "       [ 52,  54,  56,  58,  60],\n",
       "       [ 62,  64,  66,  68,  70],\n",
       "       [ 72,  74,  76,  78,  80],\n",
       "       [ 82,  84,  86,  88,  90],\n",
       "       [ 92,  94,  96,  98, 100]])"
      ]
     },
     "execution_count": 1,
     "metadata": {},
     "output_type": "execute_result"
    }
   ],
   "source": [
    "import numpy as np\n",
    "# 1번\n",
    "a=np.arange(2,101,2).reshape(10, 5)\n",
    "a"
   ]
  },
  {
   "cell_type": "code",
   "execution_count": 2,
   "metadata": {},
   "outputs": [
    {
     "data": {
      "text/plain": [
       "array([[[  2,   4,   6,   8,  10],\n",
       "        [ 12,  14,  16,  18,  20],\n",
       "        [ 22,  24,  26,  28,  30],\n",
       "        [ 32,  34,  36,  38,  40],\n",
       "        [ 42,  44,  46,  48,  50]],\n",
       "\n",
       "       [[ 52,  54,  56,  58,  60],\n",
       "        [ 62,  64,  66,  68,  70],\n",
       "        [ 72,  74,  76,  78,  80],\n",
       "        [ 82,  84,  86,  88,  90],\n",
       "        [ 92,  94,  96,  98, 100]]])"
      ]
     },
     "execution_count": 2,
     "metadata": {},
     "output_type": "execute_result"
    }
   ],
   "source": [
    "# 2번\n",
    "a=a.reshape(2,5,5)\n",
    "a"
   ]
  },
  {
   "cell_type": "code",
   "execution_count": 3,
   "metadata": {},
   "outputs": [
    {
     "data": {
      "text/plain": [
       "array([[50, 50, 50, 50, 50],\n",
       "       [50, 50, 50, 50, 50],\n",
       "       [50, 50, 50, 50, 50],\n",
       "       [50, 50, 50, 50, 50],\n",
       "       [50, 50, 50, 50, 50]])"
      ]
     },
     "execution_count": 3,
     "metadata": {},
     "output_type": "execute_result"
    }
   ],
   "source": [
    "# 3번\n",
    "b = np.full((5,5),a[0][4][4])\n",
    "b"
   ]
  },
  {
   "cell_type": "code",
   "execution_count": 4,
   "metadata": {},
   "outputs": [
    {
     "data": {
      "text/plain": [
       "array([['50', '100', '150', '200', '250'],\n",
       "       ['300', '350', '400', '450', '500'],\n",
       "       ['550', '600', '650', '700', '750'],\n",
       "       ['800', '850', '900', '950', '1000'],\n",
       "       ['1050', '1100', '1150', '1200', '1250']], dtype='<U11')"
      ]
     },
     "execution_count": 4,
     "metadata": {},
     "output_type": "execute_result"
    }
   ],
   "source": [
    "# 4번\n",
    "c = np.arange(b[0][0],1300,50).reshape(5,5).astype('U')\n",
    "c"
   ]
  },
  {
   "cell_type": "code",
   "execution_count": 5,
   "metadata": {},
   "outputs": [
    {
     "data": {
      "text/plain": [
       "array([[1050., 1100., 1150., 1200., 1250.],\n",
       "       [ 800.,  850.,  900.,  950., 1000.],\n",
       "       [ 550.,  600.,  650.,  700.,  750.],\n",
       "       [ 300.,  350.,  400.,  450.,  500.],\n",
       "       [  50.,  100.,  150.,  200.,  250.]])"
      ]
     },
     "execution_count": 5,
     "metadata": {},
     "output_type": "execute_result"
    }
   ],
   "source": [
    "# 5번\n",
    "d = c.astype(np.float64)[4::-1,]\n",
    "d"
   ]
  },
  {
   "cell_type": "code",
   "execution_count": 6,
   "metadata": {},
   "outputs": [
    {
     "data": {
      "text/plain": [
       "array([[1000.,  950.,  900.,  850.,  800.],\n",
       "       [ 750.,  700.,  650.,  600.,  550.],\n",
       "       [ 500.,  450.,  400.,  350.,  300.],\n",
       "       [ 250.,  200.,  150.,  100.,   50.]])"
      ]
     },
     "execution_count": 6,
     "metadata": {},
     "output_type": "execute_result"
    }
   ],
   "source": [
    "# 6번 \n",
    "e = d[1:5,::-1]\n",
    "e"
   ]
  },
  {
   "cell_type": "code",
   "execution_count": 7,
   "metadata": {},
   "outputs": [
    {
     "data": {
      "text/plain": [
       "array([[1000.,  950.,  850.,  800.],\n",
       "       [ 750.,  700.,  600.,  550.],\n",
       "       [ 500.,  450.,  350.,  300.],\n",
       "       [ 250.,  200.,  100.,   50.]])"
      ]
     },
     "execution_count": 7,
     "metadata": {},
     "output_type": "execute_result"
    }
   ],
   "source": [
    "# 7번\n",
    "f = e[0:,[0,1,3,4]]\n",
    "f"
   ]
  },
  {
   "cell_type": "code",
   "execution_count": 8,
   "metadata": {},
   "outputs": [
    {
     "data": {
      "text/plain": [
       "array([[1000.,  950.,  850.,  800.],\n",
       "       [ 750.,  700.,  600.,  550.],\n",
       "       [ 500.,  450.,  350.,  300.],\n",
       "       [ 250.,  200.,  100.,   50.],\n",
       "       [ 950.,  700.,  450.,  200.],\n",
       "       [ 800.,  550.,  300.,   50.]])"
      ]
     },
     "execution_count": 8,
     "metadata": {},
     "output_type": "execute_result"
    }
   ],
   "source": [
    "# 8번\n",
    "g = np.append(f,f[0:,1:5:2].T, 0)\n",
    "g"
   ]
  },
  {
   "cell_type": "code",
   "execution_count": 9,
   "metadata": {},
   "outputs": [
    {
     "data": {
      "text/plain": [
       "array([[1000.,  950., 1000.,  800.,  850.,  800.],\n",
       "       [ 750.,  700.,  750.,  550.,  600.,  550.],\n",
       "       [ 500.,  450.,  500.,  300.,  350.,  300.],\n",
       "       [ 250.,  200.,  250.,   50.,  100.,   50.],\n",
       "       [ 950.,  700.,  950.,  200.,  450.,  200.],\n",
       "       [ 800.,  550.,  800.,   50.,  300.,   50.]])"
      ]
     },
     "execution_count": 9,
     "metadata": {},
     "output_type": "execute_result"
    }
   ],
   "source": [
    "# 9번\n",
    "h = np.insert(g,2,g[0:,[0,3]].T,1)\n",
    "h"
   ]
  },
  {
   "cell_type": "code",
   "execution_count": 10,
   "metadata": {},
   "outputs": [
    {
     "data": {
      "text/plain": [
       "array([[ 250.,  200.,  250.,   50.,  100.,   50.],\n",
       "       [ 500.,  450.,  500.,   50.,  300.,   50.],\n",
       "       [ 750.,  550.,  750.,  200.,  350.,  200.],\n",
       "       [ 800.,  700.,  800.,  300.,  450.,  300.],\n",
       "       [ 950.,  700.,  950.,  550.,  600.,  550.],\n",
       "       [1000.,  950., 1000.,  800.,  850.,  800.]])"
      ]
     },
     "execution_count": 10,
     "metadata": {},
     "output_type": "execute_result"
    }
   ],
   "source": [
    "# 10번\n",
    "h.sort(0)\n",
    "h"
   ]
  },
  {
   "cell_type": "code",
   "execution_count": 11,
   "metadata": {},
   "outputs": [
    {
     "data": {
      "text/plain": [
       "250    1000\n",
       "200     950\n",
       "250    1000\n",
       "50      800\n",
       "100     850\n",
       "50      800\n",
       "dtype: int32"
      ]
     },
     "execution_count": 11,
     "metadata": {},
     "output_type": "execute_result"
    }
   ],
   "source": [
    "# 11번\n",
    "import pandas as pd\n",
    "i = pd.Series(h[5],index=[h[0].astype('i')]).astype('i')\n",
    "i"
   ]
  },
  {
   "cell_type": "code",
   "execution_count": 12,
   "metadata": {},
   "outputs": [
    {
     "data": {
      "text/plain": [
       "250      NaN\n",
       "200      NaN\n",
       "250      NaN\n",
       "50     800.0\n",
       "100      NaN\n",
       "50     800.0\n",
       "dtype: float64"
      ]
     },
     "execution_count": 12,
     "metadata": {},
     "output_type": "execute_result"
    }
   ],
   "source": [
    "# 12번\n",
    "i= pd.Series(np.where(i.values>800,np.nan,i.values),i.index)\n",
    "i"
   ]
  },
  {
   "cell_type": "code",
   "execution_count": 14,
   "metadata": {
    "scrolled": true
   },
   "outputs": [
    {
     "data": {
      "text/plain": [
       "250      0.0\n",
       "200      0.0\n",
       "250      0.0\n",
       "50     800.0\n",
       "100      0.0\n",
       "50     800.0\n",
       "dtype: float64"
      ]
     },
     "execution_count": 14,
     "metadata": {},
     "output_type": "execute_result"
    }
   ],
   "source": [
    "# 13번\n",
    "j=pd.Series(np.where(i.values==800,800.,0.),i.index)\n",
    "j"
   ]
  },
  {
   "cell_type": "code",
   "execution_count": 28,
   "metadata": {},
   "outputs": [
    {
     "data": {
      "text/plain": [
       "250      0.0\n",
       "200      0.0\n",
       "250      0.0\n",
       "50     800.0\n",
       "100      0.0\n",
       "50     800.0\n",
       "dtype: object"
      ]
     },
     "execution_count": 28,
     "metadata": {},
     "output_type": "execute_result"
    }
   ],
   "source": [
    "# 14번\n",
    "k = pd.Series(j.values.astype('str'),j.index)\n",
    "k"
   ]
  },
  {
   "cell_type": "code",
   "execution_count": 29,
   "metadata": {},
   "outputs": [
    {
     "data": {
      "text/plain": [
       "1       0.0\n",
       "3       0.0\n",
       "5       0.0\n",
       "7     800.0\n",
       "9       0.0\n",
       "11    800.0\n",
       "dtype: object"
      ]
     },
     "execution_count": 29,
     "metadata": {},
     "output_type": "execute_result"
    }
   ],
   "source": [
    "k = pd.Series(k.values, index=range(1,13,2))\n",
    "k"
   ]
  },
  {
   "cell_type": "code",
   "execution_count": null,
   "metadata": {},
   "outputs": [],
   "source": []
  }
 ],
 "metadata": {
  "kernelspec": {
   "display_name": "Python 3",
   "language": "python",
   "name": "python3"
  },
  "language_info": {
   "codemirror_mode": {
    "name": "ipython",
    "version": 3
   },
   "file_extension": ".py",
   "mimetype": "text/x-python",
   "name": "python",
   "nbconvert_exporter": "python",
   "pygments_lexer": "ipython3",
   "version": "3.7.4"
  }
 },
 "nbformat": 4,
 "nbformat_minor": 2
}
